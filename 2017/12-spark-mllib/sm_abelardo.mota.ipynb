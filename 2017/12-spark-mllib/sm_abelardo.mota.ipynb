{
 "cells": [
  {
   "cell_type": "markdown",
   "metadata": {},
   "source": [
    "# Hands-on!\n",
    "\n",
    "Nessa prática, sugerimos alguns pequenos exemplos para você implementar sobre o Spark."
   ]
  },
  {
   "cell_type": "markdown",
   "metadata": {
    "collapsed": true
   },
   "source": [
    "## Apriorando o Word Count Memória Postumas de Brás Cubas\n",
    "\n",
    "Memórias Póstumas de Brás Cubas é um romance escrito por Machado de Assis, desenvolvido em princípio como folhetim, de março a dezembro de 1880, na Revista Brasileira, para, no ano seguinte, ser publicado como livro, pela então Tipografia Nacional.\n",
    "\n",
    "A obra retrata a escravidão, as classes sociais, o cientificismo e o positivismo da época. Dada essas informações, será que conseguimos idenficar essas características pelas palavras mais utilizadas em sua obra?\n",
    "\n",
    "Utilizando o dataset `Machado-de-Assis-Memorias-Postumas.txt`, elabore um `pipeline` utilizando `Estimators` e `Transformers` necessário do Spark para responder as perguntas abaixo. Não esqueça de utilizar `stopwords.pt` para remover as `stop words`!\n",
    "\n",
    "- Quais as 10 palavras mais frequentes?\n",
    "- Quais as 2-grams e 3-grams mais frequentes?\n"
   ]
  },
  {
   "cell_type": "code",
   "execution_count": 52,
   "metadata": {},
   "outputs": [],
   "source": [
    "from pyspark.ml import Pipeline\n",
    "from pyspark.ml.feature import CountVectorizer, Tokenizer, StopWordsRemover\n",
    "import codecs\n",
    "\n",
    "stopwords = sc.textFile('../11-spark-intro/stopwords.pt')\n",
    "with codecs.open('Machado-de-Assis-Memorias-Postumas.txt', encoding='utf-8') as f:\n",
    "    \n",
    "    machado_content = f.read()\n",
    "    \n",
    "machado = spark.createDataFrame([('memorias postumas', machado_content)],\n",
    "                                ['livro', 'content'])\n",
    "\n",
    "tokenizer = Tokenizer(inputCol='content', outputCol='words')\n",
    "remover = StopWordsRemover(inputCol='words', outputCol=\"nonstopwords\",\n",
    "                           stopWords=stopwords.collect())\n",
    "cv = CountVectorizer(inputCol='nonstopwords', outputCol=\"counts\")\n",
    "\n",
    "pipe = Pipeline(stages=[tokenizer, remover, cv])\n",
    "pipe = pipe.fit(machado)"
   ]
  },
  {
   "cell_type": "code",
   "execution_count": 54,
   "metadata": {},
   "outputs": [],
   "source": [
    "result = pipe.transform(machado)"
   ]
  },
  {
   "cell_type": "markdown",
   "metadata": {},
   "source": [
    "## TF-IDF com CountVectorizer\n",
    "\n",
    "No exemplo `TFIDF`, atualize a cell 15 para utilizar o Transformer `CountVectorizer`."
   ]
  },
  {
   "cell_type": "code",
   "execution_count": null,
   "metadata": {},
   "outputs": [],
   "source": []
  }
 ],
 "metadata": {
  "kernelspec": {
   "display_name": "Python 3",
   "language": "python",
   "name": "python3"
  },
  "language_info": {
   "codemirror_mode": {
    "name": "ipython",
    "version": 3
   },
   "file_extension": ".py",
   "mimetype": "text/x-python",
   "name": "python",
   "nbconvert_exporter": "python",
   "pygments_lexer": "ipython3",
   "version": "3.6.3"
  }
 },
 "nbformat": 4,
 "nbformat_minor": 1
}
